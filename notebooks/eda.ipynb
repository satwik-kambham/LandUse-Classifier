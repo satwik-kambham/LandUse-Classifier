{
 "cells": [
  {
   "cell_type": "markdown",
   "id": "d065adea",
   "metadata": {
    "papermill": {
     "duration": 0.008585,
     "end_time": "2023-09-01T19:55:57.363160",
     "exception": false,
     "start_time": "2023-09-01T19:55:57.354575",
     "status": "completed"
    },
    "tags": []
   },
   "source": [
    "# EDA on UC Merced Land Use Dataset for Image Classification"
   ]
  },
  {
   "cell_type": "markdown",
   "id": "97956f2f",
   "metadata": {
    "papermill": {
     "duration": 0.007867,
     "end_time": "2023-09-01T19:55:57.379550",
     "exception": false,
     "start_time": "2023-09-01T19:55:57.371683",
     "status": "completed"
    },
    "tags": []
   },
   "source": [
    "### Importing libraries"
   ]
  },
  {
   "cell_type": "code",
   "execution_count": 1,
   "id": "ee81a157",
   "metadata": {
    "_cell_guid": "b1076dfc-b9ad-4769-8c92-a6c4dae69d19",
    "_uuid": "8f2839f25d086af736a60e9eeb907d3b93b6e0e5",
    "execution": {
     "iopub.execute_input": "2023-09-01T19:55:57.396466Z",
     "iopub.status.busy": "2023-09-01T19:55:57.395922Z",
     "iopub.status.idle": "2023-09-01T19:55:59.037895Z",
     "shell.execute_reply": "2023-09-01T19:55:59.036436Z"
    },
    "papermill": {
     "duration": 1.654412,
     "end_time": "2023-09-01T19:55:59.041319",
     "exception": false,
     "start_time": "2023-09-01T19:55:57.386907",
     "status": "completed"
    },
    "tags": []
   },
   "outputs": [],
   "source": [
    "import datasets\n",
    "import numpy as np\n",
    "import matplotlib.pyplot as plt\n",
    "from tqdm import tqdm"
   ]
  },
  {
   "cell_type": "markdown",
   "id": "cc7f32e7",
   "metadata": {
    "papermill": {
     "duration": 0.006962,
     "end_time": "2023-09-01T19:55:59.055734",
     "exception": false,
     "start_time": "2023-09-01T19:55:59.048772",
     "status": "completed"
    },
    "tags": []
   },
   "source": [
    "### Loading dataset and dataset info from huggingface"
   ]
  },
  {
   "cell_type": "code",
   "execution_count": 2,
   "id": "f81c185c",
   "metadata": {
    "execution": {
     "iopub.execute_input": "2023-09-01T19:55:59.074732Z",
     "iopub.status.busy": "2023-09-01T19:55:59.074112Z",
     "iopub.status.idle": "2023-09-01T19:56:00.115293Z",
     "shell.execute_reply": "2023-09-01T19:56:00.114326Z"
    },
    "papermill": {
     "duration": 1.054712,
     "end_time": "2023-09-01T19:56:00.118152",
     "exception": false,
     "start_time": "2023-09-01T19:55:59.063440",
     "status": "completed"
    },
    "tags": []
   },
   "outputs": [
    {
     "data": {
      "application/vnd.jupyter.widget-view+json": {
       "model_id": "2a52b3d809434c8e9ee2a367833032b9",
       "version_major": 2,
       "version_minor": 0
      },
      "text/plain": [
       "Downloading builder script:   0%|          | 0.00/4.43k [00:00<?, ?B/s]"
      ]
     },
     "metadata": {},
     "output_type": "display_data"
    }
   ],
   "source": [
    "ds_builder = datasets.load_dataset_builder(\"SatwikKambham/uc_merced_land_use\")\n",
    "info = ds_builder.info"
   ]
  },
  {
   "cell_type": "code",
   "execution_count": 3,
   "id": "1620d204",
   "metadata": {
    "execution": {
     "iopub.execute_input": "2023-09-01T19:56:00.136831Z",
     "iopub.status.busy": "2023-09-01T19:56:00.135918Z",
     "iopub.status.idle": "2023-09-01T19:56:00.142780Z",
     "shell.execute_reply": "2023-09-01T19:56:00.141247Z"
    },
    "papermill": {
     "duration": 0.018788,
     "end_time": "2023-09-01T19:56:00.145456",
     "exception": false,
     "start_time": "2023-09-01T19:56:00.126668",
     "status": "completed"
    },
    "tags": []
   },
   "outputs": [
    {
     "name": "stdout",
     "output_type": "stream",
     "text": [
      " This is a 21 class land use image dataset meant for research purposes.\n",
      "\n",
      "There are 100 images for each of the following classes:\n",
      "\n",
      "- agricultural\n",
      "- airplane\n",
      "- baseballdiamond\n",
      "- beach\n",
      "- buildings\n",
      "- chaparral\n",
      "- denseresidential\n",
      "- forest\n",
      "- freeway\n",
      "- golfcourse\n",
      "- harbor\n",
      "- intersection\n",
      "- mediumresidential\n",
      "- mobilehomepark\n",
      "- overpass\n",
      "- parkinglot\n",
      "- river\n",
      "- runway\n",
      "- sparseresidential\n",
      "- storagetanks\n",
      "- tenniscourt\n",
      "\n",
      "Each image measures 256x256 pixels.\n",
      "\n",
      "The images were manually extracted from large images from the\n",
      "USGS National Map Urban Area Imagery collection for various urban areas around\n",
      "the country. The pixel resolution of this public domain imagery is 1 foot.\n",
      "\n",
      "For more information about the original UC Merced Land Use dataset,\n",
      "please visit the official dataset page:\n",
      "\n",
      "http://weegee.vision.ucmerced.edu/datasets/landuse.html\n",
      "\n",
      "Please refer to the original dataset source for any additional details,\n",
      "citations, or specific usage guidelines provided by the dataset creators.\n",
      "\n"
     ]
    }
   ],
   "source": [
    "print(info.description)"
   ]
  },
  {
   "cell_type": "code",
   "execution_count": 4,
   "id": "a8be2bd4",
   "metadata": {
    "execution": {
     "iopub.execute_input": "2023-09-01T19:56:00.164641Z",
     "iopub.status.busy": "2023-09-01T19:56:00.162858Z",
     "iopub.status.idle": "2023-09-01T19:56:00.173061Z",
     "shell.execute_reply": "2023-09-01T19:56:00.171754Z"
    },
    "papermill": {
     "duration": 0.022444,
     "end_time": "2023-09-01T19:56:00.175834",
     "exception": false,
     "start_time": "2023-09-01T19:56:00.153390",
     "status": "completed"
    },
    "tags": []
   },
   "outputs": [
    {
     "data": {
      "text/plain": [
       "{'img': Image(decode=True, id=None),\n",
       " 'label': ClassLabel(num_classes=21, names=['agricultural', 'airplane', 'baseballdiamond', 'beach', 'buildings', 'chaparral', 'denseresidential', 'forest', 'freeway', 'golfcourse', 'harbor', 'intersection', 'mediumresidential', 'mobilehomepark', 'overpass', 'parkinglot', 'river', 'runway', 'sparseresidential', 'storagetanks', 'tenniscourt'], id=None)}"
      ]
     },
     "execution_count": 4,
     "metadata": {},
     "output_type": "execute_result"
    }
   ],
   "source": [
    "info.features"
   ]
  },
  {
   "cell_type": "code",
   "execution_count": 5,
   "id": "36403fa2",
   "metadata": {
    "execution": {
     "iopub.execute_input": "2023-09-01T19:56:00.195462Z",
     "iopub.status.busy": "2023-09-01T19:56:00.195068Z",
     "iopub.status.idle": "2023-09-01T19:56:15.488280Z",
     "shell.execute_reply": "2023-09-01T19:56:15.486708Z"
    },
    "papermill": {
     "duration": 15.306387,
     "end_time": "2023-09-01T19:56:15.490997",
     "exception": false,
     "start_time": "2023-09-01T19:56:00.184610",
     "status": "completed"
    },
    "tags": []
   },
   "outputs": [
    {
     "name": "stdout",
     "output_type": "stream",
     "text": [
      "Downloading and preparing dataset uc_merced_land_use/ucmerced_landuse to /root/.cache/huggingface/datasets/SatwikKambham___uc_merced_land_use/ucmerced_landuse/1.0.0/d0159da55869d8b316df616e219c61774c8d69f193446a95d02c1607ad755f18...\n"
     ]
    },
    {
     "data": {
      "application/vnd.jupyter.widget-view+json": {
       "model_id": "96b0a84c892f428fbf5dc26702442b82",
       "version_major": 2,
       "version_minor": 0
      },
      "text/plain": [
       "Downloading data:   0%|          | 0.00/332M [00:00<?, ?B/s]"
      ]
     },
     "metadata": {},
     "output_type": "display_data"
    },
    {
     "data": {
      "application/vnd.jupyter.widget-view+json": {
       "model_id": "90390d8408904699b3e71c562c3e41ab",
       "version_major": 2,
       "version_minor": 0
      },
      "text/plain": [
       "Generating train split: 0 examples [00:00, ? examples/s]"
      ]
     },
     "metadata": {},
     "output_type": "display_data"
    },
    {
     "name": "stdout",
     "output_type": "stream",
     "text": [
      "Dataset uc_merced_land_use downloaded and prepared to /root/.cache/huggingface/datasets/SatwikKambham___uc_merced_land_use/ucmerced_landuse/1.0.0/d0159da55869d8b316df616e219c61774c8d69f193446a95d02c1607ad755f18. Subsequent calls will reuse this data.\n"
     ]
    },
    {
     "data": {
      "application/vnd.jupyter.widget-view+json": {
       "model_id": "17d0fefce87046ffb12d4384313872de",
       "version_major": 2,
       "version_minor": 0
      },
      "text/plain": [
       "  0%|          | 0/1 [00:00<?, ?it/s]"
      ]
     },
     "metadata": {},
     "output_type": "display_data"
    },
    {
     "data": {
      "text/plain": [
       "DatasetDict({\n",
       "    train: Dataset({\n",
       "        features: ['img', 'label'],\n",
       "        num_rows: 2100\n",
       "    })\n",
       "})"
      ]
     },
     "execution_count": 5,
     "metadata": {},
     "output_type": "execute_result"
    }
   ],
   "source": [
    "ds = datasets.load_dataset(\"SatwikKambham/uc_merced_land_use\")\n",
    "ds"
   ]
  },
  {
   "cell_type": "markdown",
   "id": "e9002ae4",
   "metadata": {
    "papermill": {
     "duration": 0.009107,
     "end_time": "2023-09-01T19:56:15.509582",
     "exception": false,
     "start_time": "2023-09-01T19:56:15.500475",
     "status": "completed"
    },
    "tags": []
   },
   "source": [
    "### Visualizing example"
   ]
  },
  {
   "cell_type": "code",
   "execution_count": 6,
   "id": "a7e40b75",
   "metadata": {
    "execution": {
     "iopub.execute_input": "2023-09-01T19:56:15.531698Z",
     "iopub.status.busy": "2023-09-01T19:56:15.531233Z",
     "iopub.status.idle": "2023-09-01T19:56:16.097803Z",
     "shell.execute_reply": "2023-09-01T19:56:16.096508Z"
    },
    "papermill": {
     "duration": 0.582523,
     "end_time": "2023-09-01T19:56:16.102367",
     "exception": false,
     "start_time": "2023-09-01T19:56:15.519844",
     "status": "completed"
    },
    "tags": []
   },
   "outputs": [
    {
     "name": "stdout",
     "output_type": "stream",
     "text": [
      "beach\n"
     ]
    },
    {
     "data": {
      "text/plain": [
       "<matplotlib.image.AxesImage at 0x78f09b2afa90>"
      ]
     },
     "execution_count": 6,
     "metadata": {},
     "output_type": "execute_result"
    },
    {
     "data": {
      "image/png": "[encoded data removed]",
      "text/plain": [
       "<Figure size 640x480 with 1 Axes>"
      ]
     },
     "metadata": {},
     "output_type": "display_data"
    }
   ],
   "source": [
    "i = 301\n",
    "print(info.features[\"label\"].int2str(ds[\"train\"][i][\"label\"]))\n",
    "plt.imshow(ds[\"train\"][i][\"img\"])"
   ]
  },
  {
   "cell_type": "markdown",
   "id": "3f8424a0",
   "metadata": {
    "papermill": {
     "duration": 0.012532,
     "end_time": "2023-09-01T19:56:16.128121",
     "exception": false,
     "start_time": "2023-09-01T19:56:16.115589",
     "status": "completed"
    },
    "tags": []
   },
   "source": [
    "### Class Distribution: \n",
    "\n",
    "21 classes with 100 images for each class"
   ]
  },
  {
   "cell_type": "code",
   "execution_count": 7,
   "id": "0ae2a445",
   "metadata": {
    "execution": {
     "iopub.execute_input": "2023-09-01T19:56:16.155272Z",
     "iopub.status.busy": "2023-09-01T19:56:16.154084Z",
     "iopub.status.idle": "2023-09-01T19:56:19.726720Z",
     "shell.execute_reply": "2023-09-01T19:56:19.725815Z"
    },
    "papermill": {
     "duration": 3.588692,
     "end_time": "2023-09-01T19:56:19.729235",
     "exception": false,
     "start_time": "2023-09-01T19:56:16.140543",
     "status": "completed"
    },
    "tags": []
   },
   "outputs": [
    {
     "data": {
      "text/plain": [
       "{0: 100,\n",
       " 1: 100,\n",
       " 2: 100,\n",
       " 3: 100,\n",
       " 4: 100,\n",
       " 5: 100,\n",
       " 6: 100,\n",
       " 7: 100,\n",
       " 8: 100,\n",
       " 9: 100,\n",
       " 10: 100,\n",
       " 11: 100,\n",
       " 12: 100,\n",
       " 13: 100,\n",
       " 14: 100,\n",
       " 15: 100,\n",
       " 16: 100,\n",
       " 17: 100,\n",
       " 18: 100,\n",
       " 19: 100,\n",
       " 20: 100}"
      ]
     },
     "execution_count": 7,
     "metadata": {},
     "output_type": "execute_result"
    }
   ],
   "source": [
    "labels = {}\n",
    "for i in range(len(ds[\"train\"])):\n",
    "    label = ds[\"train\"][i][\"label\"]\n",
    "    if label not in labels:\n",
    "        labels[label] = 0\n",
    "    labels[label] += 1\n",
    "labels"
   ]
  },
  {
   "cell_type": "markdown",
   "id": "6559fb95",
   "metadata": {
    "papermill": {
     "duration": 0.011845,
     "end_time": "2023-09-01T19:56:19.753571",
     "exception": false,
     "start_time": "2023-09-01T19:56:19.741726",
     "status": "completed"
    },
    "tags": []
   },
   "source": [
    "### Image Sizes\n",
    "\n",
    "Images are mostly 256 by 256, however some images have a slight variation."
   ]
  },
  {
   "cell_type": "code",
   "execution_count": 8,
   "id": "f4df54d0",
   "metadata": {
    "execution": {
     "iopub.execute_input": "2023-09-01T19:56:19.783536Z",
     "iopub.status.busy": "2023-09-01T19:56:19.783094Z",
     "iopub.status.idle": "2023-09-01T19:56:22.964413Z",
     "shell.execute_reply": "2023-09-01T19:56:22.963249Z"
    },
    "papermill": {
     "duration": 3.200095,
     "end_time": "2023-09-01T19:56:22.967326",
     "exception": false,
     "start_time": "2023-09-01T19:56:19.767231",
     "status": "completed"
    },
    "tags": []
   },
   "outputs": [
    {
     "data": {
      "text/plain": [
       "{(256, 256): 2056,\n",
       " (253, 256): 6,\n",
       " (256, 253): 3,\n",
       " (256, 255): 1,\n",
       " (250, 256): 2,\n",
       " (252, 256): 2,\n",
       " (247, 247): 9,\n",
       " (256, 251): 5,\n",
       " (257, 257): 1,\n",
       " (249, 256): 1,\n",
       " (255, 256): 4,\n",
       " (256, 254): 2,\n",
       " (256, 247): 1,\n",
       " (256, 249): 2,\n",
       " (254, 256): 3,\n",
       " (242, 256): 1,\n",
       " (247, 256): 1}"
      ]
     },
     "execution_count": 8,
     "metadata": {},
     "output_type": "execute_result"
    }
   ],
   "source": [
    "sizes = {}\n",
    "for i in range(len(ds[\"train\"])):\n",
    "    size = ds[\"train\"][i][\"img\"].size\n",
    "    if size not in sizes:\n",
    "        sizes[size] = 0\n",
    "    sizes[size] += 1\n",
    "sizes"
   ]
  },
  {
   "cell_type": "markdown",
   "id": "2b1e844c",
   "metadata": {
    "papermill": {
     "duration": 0.012807,
     "end_time": "2023-09-01T19:56:22.997242",
     "exception": false,
     "start_time": "2023-09-01T19:56:22.984435",
     "status": "completed"
    },
    "tags": []
   },
   "source": [
    "### Color Channels Statistics\n",
    "\n",
    "- Mean: (0.48422758, 0.49005175, 0.45050276)\n",
    "- Std: (0.17348297, 0.16352356, 0.15547496)"
   ]
  },
  {
   "cell_type": "code",
   "execution_count": 9,
   "id": "191d2fd1",
   "metadata": {
    "execution": {
     "iopub.execute_input": "2023-09-01T19:56:23.026101Z",
     "iopub.status.busy": "2023-09-01T19:56:23.025260Z",
     "iopub.status.idle": "2023-09-01T19:56:41.758084Z",
     "shell.execute_reply": "2023-09-01T19:56:41.756686Z"
    },
    "papermill": {
     "duration": 18.751269,
     "end_time": "2023-09-01T19:56:41.760979",
     "exception": false,
     "start_time": "2023-09-01T19:56:23.009710",
     "status": "completed"
    },
    "tags": []
   },
   "outputs": [
    {
     "name": "stderr",
     "output_type": "stream",
     "text": [
      "100%|██████████| 2100/2100 [00:18<00:00, 112.20it/s]\n"
     ]
    },
    {
     "data": {
      "text/plain": [
       "(array([0.48422758, 0.49005175, 0.45050276]),\n",
       " array([0.17348297, 0.16352356, 0.15547496]))"
      ]
     },
     "execution_count": 9,
     "metadata": {},
     "output_type": "execute_result"
    }
   ],
   "source": [
    "mean = np.zeros(3)\n",
    "std = np.zeros(3)\n",
    "\n",
    "for i in tqdm(ds[\"train\"]):\n",
    "    img = np.array(i[\"img\"]) / 255\n",
    "    mean += img.mean(axis=(0, 1))\n",
    "    std += img.std(axis=(0, 1))\n",
    "    \n",
    "mean /= 2100\n",
    "std /= 2100\n",
    "\n",
    "mean, std"
   ]
  }
 ],
 "kernelspec": {
  "display_name": "Python 3",
  "language": "python",
  "name": "python3"
 },
 "language_info": {
  "codemirror_mode": {
   "name": "ipython",
   "version": 3
  },
  "file_extension": ".py",
  "mimetype": "text/x-python",
  "name": "python",
  "nbconvert_exporter": "python",
  "pygments_lexer": "ipython3",
  "version": "3.6.4"
 },
 "metadata": {
  "kernelspec": {
   "display_name": "Python 3",
   "language": "python",
   "name": "python3"
  },
  "language_info": {
   "codemirror_mode": {
    "name": "ipython",
    "version": 3
   },
   "file_extension": ".py",
   "mimetype": "text/x-python",
   "name": "python",
   "nbconvert_exporter": "python",
   "pygments_lexer": "ipython3",
   "version": "3.10.12"
  },
  "papermill": {
   "default_parameters": {},
   "duration": 49.19216,
   "end_time": "2023-09-01T19:56:42.519189",
   "environment_variables": {},
   "exception": null,
   "input_path": "__notebook__.ipynb",
   "output_path": "__notebook__.ipynb",
   "parameters": {},
   "start_time": "2023-09-01T19:55:53.327029",
   "version": "2.4.0"
  },
  "widgets": {
   "application/vnd.jupyter.widget-state+json": {
    "state": {
     "1486ec4d91434576970823fb7867eb00": {
      "model_module": "@jupyter-widgets/controls",
      "model_module_version": "1.5.0",
      "model_name": "ProgressStyleModel",
      "state": {
       "_model_module": "@jupyter-widgets/controls",
       "_model_module_version": "1.5.0",
       "_model_name": "ProgressStyleModel",
       "_view_count": null,
       "_view_module": "@jupyter-widgets/base",
       "_view_module_version": "1.2.0",
       "_view_name": "StyleView",
       "bar_color": null,
       "description_width": ""
      }
     },
     "17d0fefce87046ffb12d4384313872de": {
      "model_module": "@jupyter-widgets/controls",
      "model_module_version": "1.5.0",
      "model_name": "HBoxModel",
      "state": {
       "_dom_classes": [],
       "_model_module": "@jupyter-widgets/controls",
       "_model_module_version": "1.5.0",
       "_model_name": "HBoxModel",
       "_view_count": null,
       "_view_module": "@jupyter-widgets/controls",
       "_view_module_version": "1.5.0",
       "_view_name": "HBoxView",
       "box_style": "",
       "children": [
        "IPY_MODEL_1f7571164028460cb66225810cca6856",
        "IPY_MODEL_ee2817df5bc64d71a4b6f0fc1986b8b1",
        "IPY_MODEL_26d8deefab2441ea91628ede6af2fc9c"
       ],
       "layout": "IPY_MODEL_ff8a18569b694e738338574057893416"
      }
     },
     "18d243293c124b7d9a56ffb0d76e595b": {
      "model_module": "@jupyter-widgets/controls",
      "model_module_version": "1.5.0",
      "model_name": "HTMLModel",
      "state": {
       "_dom_classes": [],
       "_model_module": "@jupyter-widgets/controls",
       "_model_module_version": "1.5.0",
       "_model_name": "HTMLModel",
       "_view_count": null,
       "_view_module": "@jupyter-widgets/controls",
       "_view_module_version": "1.5.0",
       "_view_name": "HTMLView",
       "description": "",
       "description_tooltip": null,
       "layout": "IPY_MODEL_b184630cab2b41d2815018a7e6d78482",
       "placeholder": "​",
       "style": "IPY_MODEL_9e9faff07c7f4169af1d3ab1cbfbb860",
       "value": "Generating train split: "
      }
     },
     "1a7e72551e9c4e8791692beb6d68f406": {
      "model_module": "@jupyter-widgets/controls",
      "model_module_version": "1.5.0",
      "model_name": "DescriptionStyleModel",
      "state": {
       "_model_module": "@jupyter-widgets/controls",
       "_model_module_version": "1.5.0",
       "_model_name": "DescriptionStyleModel",
       "_view_count": null,
       "_view_module": "@jupyter-widgets/base",
       "_view_module_version": "1.2.0",
       "_view_name": "StyleView",
       "description_width": ""
      }
     },
     "1b99c73afa694d3a944c44de1b04a9e2": {
      "model_module": "@jupyter-widgets/controls",
      "model_module_version": "1.5.0",
      "model_name": "HTMLModel",
      "state": {
       "_dom_classes": [],
       "_model_module": "@jupyter-widgets/controls",
       "_model_module_version": "1.5.0",
       "_model_name": "HTMLModel",
       "_view_count": null,
       "_view_module": "@jupyter-widgets/controls",
       "_view_module_version": "1.5.0",
       "_view_name": "HTMLView",
       "description": "",
       "description_tooltip": null,
       "layout": "IPY_MODEL_cf0ed3a57f484c25b51e4a58a5a85b10",
       "placeholder": "​",
       "style": "IPY_MODEL_dc4c35ea8c2d435ab289ea72d2ed9ad1",
       "value": " 332M/332M [00:06&lt;00:00, 52.6MB/s]"
      }
     },
     "1f7571164028460cb66225810cca6856": {
      "model_module": "@jupyter-widgets/controls",
      "model_module_version": "1.5.0",
      "model_name": "HTMLModel",
      "state": {
       "_dom_classes": [],
       "_model_module": "@jupyter-widgets/controls",
       "_model_module_version": "1.5.0",
       "_model_name": "HTMLModel",
       "_view_count": null,
       "_view_module": "@jupyter-widgets/controls",
       "_view_module_version": "1.5.0",
       "_view_name": "HTMLView",
       "description": "",
       "description_tooltip": null,
       "layout": "IPY_MODEL_cd0897191fcd44bb9e2a12c1de4d1b0b",
       "placeholder": "​",
       "style": "IPY_MODEL_1a7e72551e9c4e8791692beb6d68f406",
       "value": "100%"
      }
     },
     "23e98cf6053e4a5091e23616539ab221": {
      "model_module": "@jupyter-widgets/base",
      "model_module_version": "1.2.0",
      "model_name": "LayoutModel",
      "state": {
       "_model_module": "@jupyter-widgets/base",
       "_model_module_version": "1.2.0",
       "_model_name": "LayoutModel",
       "_view_count": null,
       "_view_module": "@jupyter-widgets/base",
       "_view_module_version": "1.2.0",
       "_view_name": "LayoutView",
       "align_content": null,
       "align_items": null,
       "align_self": null,
       "border": null,
       "bottom": null,
       "display": null,
       "flex": null,
       "flex_flow": null,
       "grid_area": null,
       "grid_auto_columns": null,
       "grid_auto_flow": null,
       "grid_auto_rows": null,
       "grid_column": null,
       "grid_gap": null,
       "grid_row": null,
       "grid_template_areas": null,
       "grid_template_columns": null,
       "grid_template_rows": null,
       "height": null,
       "justify_content": null,
       "justify_items": null,
       "left": null,
       "margin": null,
       "max_height": null,
       "max_width": null,
       "min_height": null,
       "min_width": null,
       "object_fit": null,
       "object_position": null,
       "order": null,
       "overflow": null,
       "overflow_x": null,
       "overflow_y": null,
       "padding": null,
       "right": null,
       "top": null,
       "visibility": null,
       "width": null
      }
     },
     "24b476997bf84f1c8b880d14eaa5e470": {
      "model_module": "@jupyter-widgets/base",
      "model_module_version": "1.2.0",
      "model_name": "LayoutModel",
      "state": {
       "_model_module": "@jupyter-widgets/base",
       "_model_module_version": "1.2.0",
       "_model_name": "LayoutModel",
       "_view_count": null,
       "_view_module": "@jupyter-widgets/base",
       "_view_module_version": "1.2.0",
       "_view_name": "LayoutView",
       "align_content": null,
       "align_items": null,
       "align_self": null,
       "border": null,
       "bottom": null,
       "display": null,
       "flex": null,
       "flex_flow": null,
       "grid_area": null,
       "grid_auto_columns": null,
       "grid_auto_flow": null,
       "grid_auto_rows": null,
       "grid_column": null,
       "grid_gap": null,
       "grid_row": null,
       "grid_template_areas": null,
       "grid_template_columns": null,
       "grid_template_rows": null,
       "height": null,
       "justify_content": null,
       "justify_items": null,
       "left": null,
       "margin": null,
       "max_height": null,
       "max_width": null,
       "min_height": null,
       "min_width": null,
       "object_fit": null,
       "object_position": null,
       "order": null,
       "overflow": null,
       "overflow_x": null,
       "overflow_y": null,
       "padding": null,
       "right": null,
       "top": null,
       "visibility": null,
       "width": null
      }
     },
     "26b4649a10a64a068fbd05810ddac8c9": {
      "model_module": "@jupyter-widgets/base",
      "model_module_version": "1.2.0",
      "model_name": "LayoutModel",
      "state": {
       "_model_module": "@jupyter-widgets/base",
       "_model_module_version": "1.2.0",
       "_model_name": "LayoutModel",
       "_view_count": null,
       "_view_module": "@jupyter-widgets/base",
       "_view_module_version": "1.2.0",
       "_view_name": "LayoutView",
       "align_content": null,
       "align_items": null,
       "align_self": null,
       "border": null,
       "bottom": null,
       "display": null,
       "flex": null,
       "flex_flow": null,
       "grid_area": null,
       "grid_auto_columns": null,
       "grid_auto_flow": null,
       "grid_auto_rows": null,
       "grid_column": null,
       "grid_gap": null,
       "grid_row": null,
       "grid_template_areas": null,
       "grid_template_columns": null,
       "grid_template_rows": null,
       "height": null,
       "justify_content": null,
       "justify_items": null,
       "left": null,
       "margin": null,
       "max_height": null,
       "max_width": null,
       "min_height": null,
       "min_width": null,
       "object_fit": null,
       "object_position": null,
       "order": null,
       "overflow": null,
       "overflow_x": null,
       "overflow_y": null,
       "padding": null,
       "right": null,
       "top": null,
       "visibility": null,
       "width": null
      }
     },
     "26d8deefab2441ea91628ede6af2fc9c": {
      "model_module": "@jupyter-widgets/controls",
      "model_module_version": "1.5.0",
      "model_name": "HTMLModel",
      "state": {
       "_dom_classes": [],
       "_model_module": "@jupyter-widgets/controls",
       "_model_module_version": "1.5.0",
       "_model_name": "HTMLModel",
       "_view_count": null,
       "_view_module": "@jupyter-widgets/controls",
       "_view_module_version": "1.5.0",
       "_view_name": "HTMLView",
       "description": "",
       "description_tooltip": null,
       "layout": "IPY_MODEL_26b4649a10a64a068fbd05810ddac8c9",
       "placeholder": "​",
       "style": "IPY_MODEL_ec4c33de711d4a3c8824b4709aa4861b",
       "value": " 1/1 [00:00&lt;00:00, 41.98it/s]"
      }
     },
     "2a52b3d809434c8e9ee2a367833032b9": {
      "model_module": "@jupyter-widgets/controls",
      "model_module_version": "1.5.0",
      "model_name": "HBoxModel",
      "state": {
       "_dom_classes": [],
       "_model_module": "@jupyter-widgets/controls",
       "_model_module_version": "1.5.0",
       "_model_name": "HBoxModel",
       "_view_count": null,
       "_view_module": "@jupyter-widgets/controls",
       "_view_module_version": "1.5.0",
       "_view_name": "HBoxView",
       "box_style": "",
       "children": [
        "IPY_MODEL_fa552b0eb6a6499ea18aafe516c4cc8c",
        "IPY_MODEL_7ccb89bc73e24fb892c8384d5f398ec8",
        "IPY_MODEL_67a330ffed44491aaf0f92e06c15cbe0"
       ],
       "layout": "IPY_MODEL_bee0e3b5b35d46c6b45212ebd13782c6"
      }
     },
     "2cbbf33dadcf445fb72763b4de546dcb": {
      "model_module": "@jupyter-widgets/controls",
      "model_module_version": "1.5.0",
      "model_name": "ProgressStyleModel",
      "state": {
       "_model_module": "@jupyter-widgets/controls",
       "_model_module_version": "1.5.0",
       "_model_name": "ProgressStyleModel",
       "_view_count": null,
       "_view_module": "@jupyter-widgets/base",
       "_view_module_version": "1.2.0",
       "_view_name": "StyleView",
       "bar_color": null,
       "description_width": ""
      }
     },
     "2da6a10c1691404388545e035d8c3d9c": {
      "model_module": "@jupyter-widgets/controls",
      "model_module_version": "1.5.0",
      "model_name": "DescriptionStyleModel",
      "state": {
       "_model_module": "@jupyter-widgets/controls",
       "_model_module_version": "1.5.0",
       "_model_name": "DescriptionStyleModel",
       "_view_count": null,
       "_view_module": "@jupyter-widgets/base",
       "_view_module_version": "1.2.0",
       "_view_name": "StyleView",
       "description_width": ""
      }
     },
     "2f9008014c024b72a985cb7417d69bf5": {
      "model_module": "@jupyter-widgets/base",
      "model_module_version": "1.2.0",
      "model_name": "LayoutModel",
      "state": {
       "_model_module": "@jupyter-widgets/base",
       "_model_module_version": "1.2.0",
       "_model_name": "LayoutModel",
       "_view_count": null,
       "_view_module": "@jupyter-widgets/base",
       "_view_module_version": "1.2.0",
       "_view_name": "LayoutView",
       "align_content": null,
       "align_items": null,
       "align_self": null,
       "border": null,
       "bottom": null,
       "display": null,
       "flex": null,
       "flex_flow": null,
       "grid_area": null,
       "grid_auto_columns": null,
       "grid_auto_flow": null,
       "grid_auto_rows": null,
       "grid_column": null,
       "grid_gap": null,
       "grid_row": null,
       "grid_template_areas": null,
       "grid_template_columns": null,
       "grid_template_rows": null,
       "height": null,
       "justify_content": null,
       "justify_items": null,
       "left": null,
       "margin": null,
       "max_height": null,
       "max_width": null,
       "min_height": null,
       "min_width": null,
       "object_fit": null,
       "object_position": null,
       "order": null,
       "overflow": null,
       "overflow_x": null,
       "overflow_y": null,
       "padding": null,
       "right": null,
       "top": null,
       "visibility": null,
       "width": null
      }
     },
     "3bfae591edd149c0b5584c4e43395a76": {
      "model_module": "@jupyter-widgets/controls",
      "model_module_version": "1.5.0",
      "model_name": "ProgressStyleModel",
      "state": {
       "_model_module": "@jupyter-widgets/controls",
       "_model_module_version": "1.5.0",
       "_model_name": "ProgressStyleModel",
       "_view_count": null,
       "_view_module": "@jupyter-widgets/base",
       "_view_module_version": "1.2.0",
       "_view_name": "StyleView",
       "bar_color": null,
       "description_width": ""
      }
     },
     "3ca576a0c2b04731b1096e1b53557586": {
      "model_module": "@jupyter-widgets/base",
      "model_module_version": "1.2.0",
      "model_name": "LayoutModel",
      "state": {
       "_model_module": "@jupyter-widgets/base",
       "_model_module_version": "1.2.0",
       "_model_name": "LayoutModel",
       "_view_count": null,
       "_view_module": "@jupyter-widgets/base",
       "_view_module_version": "1.2.0",
       "_view_name": "LayoutView",
       "align_content": null,
       "align_items": null,
       "align_self": null,
       "border": null,
       "bottom": null,
       "display": null,
       "flex": null,
       "flex_flow": null,
       "grid_area": null,
       "grid_auto_columns": null,
       "grid_auto_flow": null,
       "grid_auto_rows": null,
       "grid_column": null,
       "grid_gap": null,
       "grid_row": null,
       "grid_template_areas": null,
       "grid_template_columns": null,
       "grid_template_rows": null,
       "height": null,
       "justify_content": null,
       "justify_items": null,
       "left": null,
       "margin": null,
       "max_height": null,
       "max_width": null,
       "min_height": null,
       "min_width": null,
       "object_fit": null,
       "object_position": null,
       "order": null,
       "overflow": null,
       "overflow_x": null,
       "overflow_y": null,
       "padding": null,
       "right": null,
       "top": null,
       "visibility": null,
       "width": null
      }
     },
     "46c084308eed4c449e143f89ea26c8f4": {
      "model_module": "@jupyter-widgets/base",
      "model_module_version": "1.2.0",
      "model_name": "LayoutModel",
      "state": {
       "_model_module": "@jupyter-widgets/base",
       "_model_module_version": "1.2.0",
       "_model_name": "LayoutModel",
       "_view_count": null,
       "_view_module": "@jupyter-widgets/base",
       "_view_module_version": "1.2.0",
       "_view_name": "LayoutView",
       "align_content": null,
       "align_items": null,
       "align_self": null,
       "border": null,
       "bottom": null,
       "display": null,
       "flex": null,
       "flex_flow": null,
       "grid_area": null,
       "grid_auto_columns": null,
       "grid_auto_flow": null,
       "grid_auto_rows": null,
       "grid_column": null,
       "grid_gap": null,
       "grid_row": null,
       "grid_template_areas": null,
       "grid_template_columns": null,
       "grid_template_rows": null,
       "height": null,
       "justify_content": null,
       "justify_items": null,
       "left": null,
       "margin": null,
       "max_height": null,
       "max_width": null,
       "min_height": null,
       "min_width": null,
       "object_fit": null,
       "object_position": null,
       "order": null,
       "overflow": null,
       "overflow_x": null,
       "overflow_y": null,
       "padding": null,
       "right": null,
       "top": null,
       "visibility": null,
       "width": "20px"
      }
     },
     "602ad7320abc4a3f83932b877669d64d": {
      "model_module": "@jupyter-widgets/base",
      "model_module_version": "1.2.0",
      "model_name": "LayoutModel",
      "state": {
       "_model_module": "@jupyter-widgets/base",
       "_model_module_version": "1.2.0",
       "_model_name": "LayoutModel",
       "_view_count": null,
       "_view_module": "@jupyter-widgets/base",
       "_view_module_version": "1.2.0",
       "_view_name": "LayoutView",
       "align_content": null,
       "align_items": null,
       "align_self": null,
       "border": null,
       "bottom": null,
       "display": null,
       "flex": null,
       "flex_flow": null,
       "grid_area": null,
       "grid_auto_columns": null,
       "grid_auto_flow": null,
       "grid_auto_rows": null,
       "grid_column": null,
       "grid_gap": null,
       "grid_row": null,
       "grid_template_areas": null,
       "grid_template_columns": null,
       "grid_template_rows": null,
       "height": null,
       "justify_content": null,
       "justify_items": null,
       "left": null,
       "margin": null,
       "max_height": null,
       "max_width": null,
       "min_height": null,
       "min_width": null,
       "object_fit": null,
       "object_position": null,
       "order": null,
       "overflow": null,
       "overflow_x": null,
       "overflow_y": null,
       "padding": null,
       "right": null,
       "top": null,
       "visibility": null,
       "width": null
      }
     },
     "67a330ffed44491aaf0f92e06c15cbe0": {
      "model_module": "@jupyter-widgets/controls",
      "model_module_version": "1.5.0",
      "model_name": "HTMLModel",
      "state": {
       "_dom_classes": [],
       "_model_module": "@jupyter-widgets/controls",
       "_model_module_version": "1.5.0",
       "_model_name": "HTMLModel",
       "_view_count": null,
       "_view_module": "@jupyter-widgets/controls",
       "_view_module_version": "1.5.0",
       "_view_name": "HTMLView",
       "description": "",
       "description_tooltip": null,
       "layout": "IPY_MODEL_bce732ab2a6b44a98653e5a2eaf15b0f",
       "placeholder": "​",
       "style": "IPY_MODEL_fc01f437410d4a89bfa3d3c31c6b2b57",
       "value": " 4.43k/4.43k [00:00&lt;00:00, 236kB/s]"
      }
     },
     "67e8b3ae42774511abca6f767145616a": {
      "model_module": "@jupyter-widgets/controls",
      "model_module_version": "1.5.0",
      "model_name": "DescriptionStyleModel",
      "state": {
       "_model_module": "@jupyter-widgets/controls",
       "_model_module_version": "1.5.0",
       "_model_name": "DescriptionStyleModel",
       "_view_count": null,
       "_view_module": "@jupyter-widgets/base",
       "_view_module_version": "1.2.0",
       "_view_name": "StyleView",
       "description_width": ""
      }
     },
     "6c294581a5944f7eb78f3b1bcf8c958c": {
      "model_module": "@jupyter-widgets/controls",
      "model_module_version": "1.5.0",
      "model_name": "ProgressStyleModel",
      "state": {
       "_model_module": "@jupyter-widgets/controls",
       "_model_module_version": "1.5.0",
       "_model_name": "ProgressStyleModel",
       "_view_count": null,
       "_view_module": "@jupyter-widgets/base",
       "_view_module_version": "1.2.0",
       "_view_name": "StyleView",
       "bar_color": null,
       "description_width": ""
      }
     },
     "6e0bf326e5c44dd090a4d596d0398886": {
      "model_module": "@jupyter-widgets/controls",
      "model_module_version": "1.5.0",
      "model_name": "DescriptionStyleModel",
      "state": {
       "_model_module": "@jupyter-widgets/controls",
       "_model_module_version": "1.5.0",
       "_model_name": "DescriptionStyleModel",
       "_view_count": null,
       "_view_module": "@jupyter-widgets/base",
       "_view_module_version": "1.2.0",
       "_view_name": "StyleView",
       "description_width": ""
      }
     },
     "6ec9c31fda8d4de7941b94a808b68e7c": {
      "model_module": "@jupyter-widgets/controls",
      "model_module_version": "1.5.0",
      "model_name": "HTMLModel",
      "state": {
       "_dom_classes": [],
       "_model_module": "@jupyter-widgets/controls",
       "_model_module_version": "1.5.0",
       "_model_name": "HTMLModel",
       "_view_count": null,
       "_view_module": "@jupyter-widgets/controls",
       "_view_module_version": "1.5.0",
       "_view_name": "HTMLView",
       "description": "",
       "description_tooltip": null,
       "layout": "IPY_MODEL_2f9008014c024b72a985cb7417d69bf5",
       "placeholder": "​",
       "style": "IPY_MODEL_6e0bf326e5c44dd090a4d596d0398886",
       "value": " 2001/0 [00:00&lt;00:00, 19972.02 examples/s]"
      }
     },
     "7ccb89bc73e24fb892c8384d5f398ec8": {
      "model_module": "@jupyter-widgets/controls",
      "model_module_version": "1.5.0",
      "model_name": "FloatProgressModel",
      "state": {
       "_dom_classes": [],
       "_model_module": "@jupyter-widgets/controls",
       "_model_module_version": "1.5.0",
       "_model_name": "FloatProgressModel",
       "_view_count": null,
       "_view_module": "@jupyter-widgets/controls",
       "_view_module_version": "1.5.0",
       "_view_name": "ProgressView",
       "bar_style": "success",
       "description": "",
       "description_tooltip": null,
       "layout": "IPY_MODEL_24b476997bf84f1c8b880d14eaa5e470",
       "max": 4430.0,
       "min": 0.0,
       "orientation": "horizontal",
       "style": "IPY_MODEL_2cbbf33dadcf445fb72763b4de546dcb",
       "value": 4430.0
      }
     },
     "89b0de28a6b449bc9f0620b3ee59bc7f": {
      "model_module": "@jupyter-widgets/base",
      "model_module_version": "1.2.0",
      "model_name": "LayoutModel",
      "state": {
       "_model_module": "@jupyter-widgets/base",
       "_model_module_version": "1.2.0",
       "_model_name": "LayoutModel",
       "_view_count": null,
       "_view_module": "@jupyter-widgets/base",
       "_view_module_version": "1.2.0",
       "_view_name": "LayoutView",
       "align_content": null,
       "align_items": null,
       "align_self": null,
       "border": null,
       "bottom": null,
       "display": null,
       "flex": null,
       "flex_flow": null,
       "grid_area": null,
       "grid_auto_columns": null,
       "grid_auto_flow": null,
       "grid_auto_rows": null,
       "grid_column": null,
       "grid_gap": null,
       "grid_row": null,
       "grid_template_areas": null,
       "grid_template_columns": null,
       "grid_template_rows": null,
       "height": null,
       "justify_content": null,
       "justify_items": null,
       "left": null,
       "margin": null,
       "max_height": null,
       "max_width": null,
       "min_height": null,
       "min_width": null,
       "object_fit": null,
       "object_position": null,
       "order": null,
       "overflow": null,
       "overflow_x": null,
       "overflow_y": null,
       "padding": null,
       "right": null,
       "top": null,
       "visibility": null,
       "width": null
      }
     },
     "8e6d7f45193c4dd6986df82901d04afe": {
      "model_module": "@jupyter-widgets/controls",
      "model_module_version": "1.5.0",
      "model_name": "HTMLModel",
      "state": {
       "_dom_classes": [],
       "_model_module": "@jupyter-widgets/controls",
       "_model_module_version": "1.5.0",
       "_model_name": "HTMLModel",
       "_view_count": null,
       "_view_module": "@jupyter-widgets/controls",
       "_view_module_version": "1.5.0",
       "_view_name": "HTMLView",
       "description": "",
       "description_tooltip": null,
       "layout": "IPY_MODEL_602ad7320abc4a3f83932b877669d64d",
       "placeholder": "​",
       "style": "IPY_MODEL_67e8b3ae42774511abca6f767145616a",
       "value": "Downloading data: 100%"
      }
     },
     "90390d8408904699b3e71c562c3e41ab": {
      "model_module": "@jupyter-widgets/controls",
      "model_module_version": "1.5.0",
      "model_name": "HBoxModel",
      "state": {
       "_dom_classes": [],
       "_model_module": "@jupyter-widgets/controls",
       "_model_module_version": "1.5.0",
       "_model_name": "HBoxModel",
       "_view_count": null,
       "_view_module": "@jupyter-widgets/controls",
       "_view_module_version": "1.5.0",
       "_view_name": "HBoxView",
       "box_style": "",
       "children": [
        "IPY_MODEL_18d243293c124b7d9a56ffb0d76e595b",
        "IPY_MODEL_f91269812e2d4cc5bf5eeb13957ee0d5",
        "IPY_MODEL_6ec9c31fda8d4de7941b94a808b68e7c"
       ],
       "layout": "IPY_MODEL_d40130de3287478cab8c8e9dc6357510"
      }
     },
     "96b0a84c892f428fbf5dc26702442b82": {
      "model_module": "@jupyter-widgets/controls",
      "model_module_version": "1.5.0",
      "model_name": "HBoxModel",
      "state": {
       "_dom_classes": [],
       "_model_module": "@jupyter-widgets/controls",
       "_model_module_version": "1.5.0",
       "_model_name": "HBoxModel",
       "_view_count": null,
       "_view_module": "@jupyter-widgets/controls",
       "_view_module_version": "1.5.0",
       "_view_name": "HBoxView",
       "box_style": "",
       "children": [
        "IPY_MODEL_8e6d7f45193c4dd6986df82901d04afe",
        "IPY_MODEL_e0c745dfdcdc490688e2b3c4fe63056b",
        "IPY_MODEL_1b99c73afa694d3a944c44de1b04a9e2"
       ],
       "layout": "IPY_MODEL_89b0de28a6b449bc9f0620b3ee59bc7f"
      }
     },
     "9e9faff07c7f4169af1d3ab1cbfbb860": {
      "model_module": "@jupyter-widgets/controls",
      "model_module_version": "1.5.0",
      "model_name": "DescriptionStyleModel",
      "state": {
       "_model_module": "@jupyter-widgets/controls",
       "_model_module_version": "1.5.0",
       "_model_name": "DescriptionStyleModel",
       "_view_count": null,
       "_view_module": "@jupyter-widgets/base",
       "_view_module_version": "1.2.0",
       "_view_name": "StyleView",
       "description_width": ""
      }
     },
     "aa3ed83139694d08bbbcf3af9dad8f24": {
      "model_module": "@jupyter-widgets/base",
      "model_module_version": "1.2.0",
      "model_name": "LayoutModel",
      "state": {
       "_model_module": "@jupyter-widgets/base",
       "_model_module_version": "1.2.0",
       "_model_name": "LayoutModel",
       "_view_count": null,
       "_view_module": "@jupyter-widgets/base",
       "_view_module_version": "1.2.0",
       "_view_name": "LayoutView",
       "align_content": null,
       "align_items": null,
       "align_self": null,
       "border": null,
       "bottom": null,
       "display": null,
       "flex": null,
       "flex_flow": null,
       "grid_area": null,
       "grid_auto_columns": null,
       "grid_auto_flow": null,
       "grid_auto_rows": null,
       "grid_column": null,
       "grid_gap": null,
       "grid_row": null,
       "grid_template_areas": null,
       "grid_template_columns": null,
       "grid_template_rows": null,
       "height": null,
       "justify_content": null,
       "justify_items": null,
       "left": null,
       "margin": null,
       "max_height": null,
       "max_width": null,
       "min_height": null,
       "min_width": null,
       "object_fit": null,
       "object_position": null,
       "order": null,
       "overflow": null,
       "overflow_x": null,
       "overflow_y": null,
       "padding": null,
       "right": null,
       "top": null,
       "visibility": null,
       "width": null
      }
     },
     "b184630cab2b41d2815018a7e6d78482": {
      "model_module": "@jupyter-widgets/base",
      "model_module_version": "1.2.0",
      "model_name": "LayoutModel",
      "state": {
       "_model_module": "@jupyter-widgets/base",
       "_model_module_version": "1.2.0",
       "_model_name": "LayoutModel",
       "_view_count": null,
       "_view_module": "@jupyter-widgets/base",
       "_view_module_version": "1.2.0",
       "_view_name": "LayoutView",
       "align_content": null,
       "align_items": null,
       "align_self": null,
       "border": null,
       "bottom": null,
       "display": null,
       "flex": null,
       "flex_flow": null,
       "grid_area": null,
       "grid_auto_columns": null,
       "grid_auto_flow": null,
       "grid_auto_rows": null,
       "grid_column": null,
       "grid_gap": null,
       "grid_row": null,
       "grid_template_areas": null,
       "grid_template_columns": null,
       "grid_template_rows": null,
       "height": null,
       "justify_content": null,
       "justify_items": null,
       "left": null,
       "margin": null,
       "max_height": null,
       "max_width": null,
       "min_height": null,
       "min_width": null,
       "object_fit": null,
       "object_position": null,
       "order": null,
       "overflow": null,
       "overflow_x": null,
       "overflow_y": null,
       "padding": null,
       "right": null,
       "top": null,
       "visibility": null,
       "width": null
      }
     },
     "bce732ab2a6b44a98653e5a2eaf15b0f": {
      "model_module": "@jupyter-widgets/base",
      "model_module_version": "1.2.0",
      "model_name": "LayoutModel",
      "state": {
       "_model_module": "@jupyter-widgets/base",
       "_model_module_version": "1.2.0",
       "_model_name": "LayoutModel",
       "_view_count": null,
       "_view_module": "@jupyter-widgets/base",
       "_view_module_version": "1.2.0",
       "_view_name": "LayoutView",
       "align_content": null,
       "align_items": null,
       "align_self": null,
       "border": null,
       "bottom": null,
       "display": null,
       "flex": null,
       "flex_flow": null,
       "grid_area": null,
       "grid_auto_columns": null,
       "grid_auto_flow": null,
       "grid_auto_rows": null,
       "grid_column": null,
       "grid_gap": null,
       "grid_row": null,
       "grid_template_areas": null,
       "grid_template_columns": null,
       "grid_template_rows": null,
       "height": null,
       "justify_content": null,
       "justify_items": null,
       "left": null,
       "margin": null,
       "max_height": null,
       "max_width": null,
       "min_height": null,
       "min_width": null,
       "object_fit": null,
       "object_position": null,
       "order": null,
       "overflow": null,
       "overflow_x": null,
       "overflow_y": null,
       "padding": null,
       "right": null,
       "top": null,
       "visibility": null,
       "width": null
      }
     },
     "bee0e3b5b35d46c6b45212ebd13782c6": {
      "model_module": "@jupyter-widgets/base",
      "model_module_version": "1.2.0",
      "model_name": "LayoutModel",
      "state": {
       "_model_module": "@jupyter-widgets/base",
       "_model_module_version": "1.2.0",
       "_model_name": "LayoutModel",
       "_view_count": null,
       "_view_module": "@jupyter-widgets/base",
       "_view_module_version": "1.2.0",
       "_view_name": "LayoutView",
       "align_content": null,
       "align_items": null,
       "align_self": null,
       "border": null,
       "bottom": null,
       "display": null,
       "flex": null,
       "flex_flow": null,
       "grid_area": null,
       "grid_auto_columns": null,
       "grid_auto_flow": null,
       "grid_auto_rows": null,
       "grid_column": null,
       "grid_gap": null,
       "grid_row": null,
       "grid_template_areas": null,
       "grid_template_columns": null,
       "grid_template_rows": null,
       "height": null,
       "justify_content": null,
       "justify_items": null,
       "left": null,
       "margin": null,
       "max_height": null,
       "max_width": null,
       "min_height": null,
       "min_width": null,
       "object_fit": null,
       "object_position": null,
       "order": null,
       "overflow": null,
       "overflow_x": null,
       "overflow_y": null,
       "padding": null,
       "right": null,
       "top": null,
       "visibility": null,
       "width": null
      }
     },
     "cd0897191fcd44bb9e2a12c1de4d1b0b": {
      "model_module": "@jupyter-widgets/base",
      "model_module_version": "1.2.0",
      "model_name": "LayoutModel",
      "state": {
       "_model_module": "@jupyter-widgets/base",
       "_model_module_version": "1.2.0",
       "_model_name": "LayoutModel",
       "_view_count": null,
       "_view_module": "@jupyter-widgets/base",
       "_view_module_version": "1.2.0",
       "_view_name": "LayoutView",
       "align_content": null,
       "align_items": null,
       "align_self": null,
       "border": null,
       "bottom": null,
       "display": null,
       "flex": null,
       "flex_flow": null,
       "grid_area": null,
       "grid_auto_columns": null,
       "grid_auto_flow": null,
       "grid_auto_rows": null,
       "grid_column": null,
       "grid_gap": null,
       "grid_row": null,
       "grid_template_areas": null,
       "grid_template_columns": null,
       "grid_template_rows": null,
       "height": null,
       "justify_content": null,
       "justify_items": null,
       "left": null,
       "margin": null,
       "max_height": null,
       "max_width": null,
       "min_height": null,
       "min_width": null,
       "object_fit": null,
       "object_position": null,
       "order": null,
       "overflow": null,
       "overflow_x": null,
       "overflow_y": null,
       "padding": null,
       "right": null,
       "top": null,
       "visibility": null,
       "width": null
      }
     },
     "cf0ed3a57f484c25b51e4a58a5a85b10": {
      "model_module": "@jupyter-widgets/base",
      "model_module_version": "1.2.0",
      "model_name": "LayoutModel",
      "state": {
       "_model_module": "@jupyter-widgets/base",
       "_model_module_version": "1.2.0",
       "_model_name": "LayoutModel",
       "_view_count": null,
       "_view_module": "@jupyter-widgets/base",
       "_view_module_version": "1.2.0",
       "_view_name": "LayoutView",
       "align_content": null,
       "align_items": null,
       "align_self": null,
       "border": null,
       "bottom": null,
       "display": null,
       "flex": null,
       "flex_flow": null,
       "grid_area": null,
       "grid_auto_columns": null,
       "grid_auto_flow": null,
       "grid_auto_rows": null,
       "grid_column": null,
       "grid_gap": null,
       "grid_row": null,
       "grid_template_areas": null,
       "grid_template_columns": null,
       "grid_template_rows": null,
       "height": null,
       "justify_content": null,
       "justify_items": null,
       "left": null,
       "margin": null,
       "max_height": null,
       "max_width": null,
       "min_height": null,
       "min_width": null,
       "object_fit": null,
       "object_position": null,
       "order": null,
       "overflow": null,
       "overflow_x": null,
       "overflow_y": null,
       "padding": null,
       "right": null,
       "top": null,
       "visibility": null,
       "width": null
      }
     },
     "d40130de3287478cab8c8e9dc6357510": {
      "model_module": "@jupyter-widgets/base",
      "model_module_version": "1.2.0",
      "model_name": "LayoutModel",
      "state": {
       "_model_module": "@jupyter-widgets/base",
       "_model_module_version": "1.2.0",
       "_model_name": "LayoutModel",
       "_view_count": null,
       "_view_module": "@jupyter-widgets/base",
       "_view_module_version": "1.2.0",
       "_view_name": "LayoutView",
       "align_content": null,
       "align_items": null,
       "align_self": null,
       "border": null,
       "bottom": null,
       "display": null,
       "flex": null,
       "flex_flow": null,
       "grid_area": null,
       "grid_auto_columns": null,
       "grid_auto_flow": null,
       "grid_auto_rows": null,
       "grid_column": null,
       "grid_gap": null,
       "grid_row": null,
       "grid_template_areas": null,
       "grid_template_columns": null,
       "grid_template_rows": null,
       "height": null,
       "justify_content": null,
       "justify_items": null,
       "left": null,
       "margin": null,
       "max_height": null,
       "max_width": null,
       "min_height": null,
       "min_width": null,
       "object_fit": null,
       "object_position": null,
       "order": null,
       "overflow": null,
       "overflow_x": null,
       "overflow_y": null,
       "padding": null,
       "right": null,
       "top": null,
       "visibility": "hidden",
       "width": null
      }
     },
     "dc4c35ea8c2d435ab289ea72d2ed9ad1": {
      "model_module": "@jupyter-widgets/controls",
      "model_module_version": "1.5.0",
      "model_name": "DescriptionStyleModel",
      "state": {
       "_model_module": "@jupyter-widgets/controls",
       "_model_module_version": "1.5.0",
       "_model_name": "DescriptionStyleModel",
       "_view_count": null,
       "_view_module": "@jupyter-widgets/base",
       "_view_module_version": "1.2.0",
       "_view_name": "StyleView",
       "description_width": ""
      }
     },
     "e0c745dfdcdc490688e2b3c4fe63056b": {
      "model_module": "@jupyter-widgets/controls",
      "model_module_version": "1.5.0",
      "model_name": "FloatProgressModel",
      "state": {
       "_dom_classes": [],
       "_model_module": "@jupyter-widgets/controls",
       "_model_module_version": "1.5.0",
       "_model_name": "FloatProgressModel",
       "_view_count": null,
       "_view_module": "@jupyter-widgets/controls",
       "_view_module_version": "1.5.0",
       "_view_name": "ProgressView",
       "bar_style": "success",
       "description": "",
       "description_tooltip": null,
       "layout": "IPY_MODEL_3ca576a0c2b04731b1096e1b53557586",
       "max": 332468434.0,
       "min": 0.0,
       "orientation": "horizontal",
       "style": "IPY_MODEL_1486ec4d91434576970823fb7867eb00",
       "value": 332468434.0
      }
     },
     "ec4c33de711d4a3c8824b4709aa4861b": {
      "model_module": "@jupyter-widgets/controls",
      "model_module_version": "1.5.0",
      "model_name": "DescriptionStyleModel",
      "state": {
       "_model_module": "@jupyter-widgets/controls",
       "_model_module_version": "1.5.0",
       "_model_name": "DescriptionStyleModel",
       "_view_count": null,
       "_view_module": "@jupyter-widgets/base",
       "_view_module_version": "1.2.0",
       "_view_name": "StyleView",
       "description_width": ""
      }
     },
     "ee2817df5bc64d71a4b6f0fc1986b8b1": {
      "model_module": "@jupyter-widgets/controls",
      "model_module_version": "1.5.0",
      "model_name": "FloatProgressModel",
      "state": {
       "_dom_classes": [],
       "_model_module": "@jupyter-widgets/controls",
       "_model_module_version": "1.5.0",
       "_model_name": "FloatProgressModel",
       "_view_count": null,
       "_view_module": "@jupyter-widgets/controls",
       "_view_module_version": "1.5.0",
       "_view_name": "ProgressView",
       "bar_style": "success",
       "description": "",
       "description_tooltip": null,
       "layout": "IPY_MODEL_23e98cf6053e4a5091e23616539ab221",
       "max": 1.0,
       "min": 0.0,
       "orientation": "horizontal",
       "style": "IPY_MODEL_3bfae591edd149c0b5584c4e43395a76",
       "value": 1.0
      }
     },
     "f91269812e2d4cc5bf5eeb13957ee0d5": {
      "model_module": "@jupyter-widgets/controls",
      "model_module_version": "1.5.0",
      "model_name": "FloatProgressModel",
      "state": {
       "_dom_classes": [],
       "_model_module": "@jupyter-widgets/controls",
       "_model_module_version": "1.5.0",
       "_model_name": "FloatProgressModel",
       "_view_count": null,
       "_view_module": "@jupyter-widgets/controls",
       "_view_module_version": "1.5.0",
       "_view_name": "ProgressView",
       "bar_style": "info",
       "description": "",
       "description_tooltip": null,
       "layout": "IPY_MODEL_46c084308eed4c449e143f89ea26c8f4",
       "max": 1.0,
       "min": 0.0,
       "orientation": "horizontal",
       "style": "IPY_MODEL_6c294581a5944f7eb78f3b1bcf8c958c",
       "value": 1.0
      }
     },
     "fa552b0eb6a6499ea18aafe516c4cc8c": {
      "model_module": "@jupyter-widgets/controls",
      "model_module_version": "1.5.0",
      "model_name": "HTMLModel",
      "state": {
       "_dom_classes": [],
       "_model_module": "@jupyter-widgets/controls",
       "_model_module_version": "1.5.0",
       "_model_name": "HTMLModel",
       "_view_count": null,
       "_view_module": "@jupyter-widgets/controls",
       "_view_module_version": "1.5.0",
       "_view_name": "HTMLView",
       "description": "",
       "description_tooltip": null,
       "layout": "IPY_MODEL_aa3ed83139694d08bbbcf3af9dad8f24",
       "placeholder": "​",
       "style": "IPY_MODEL_2da6a10c1691404388545e035d8c3d9c",
       "value": "Downloading builder script: 100%"
      }
     },
     "fc01f437410d4a89bfa3d3c31c6b2b57": {
      "model_module": "@jupyter-widgets/controls",
      "model_module_version": "1.5.0",
      "model_name": "DescriptionStyleModel",
      "state": {
       "_model_module": "@jupyter-widgets/controls",
       "_model_module_version": "1.5.0",
       "_model_name": "DescriptionStyleModel",
       "_view_count": null,
       "_view_module": "@jupyter-widgets/base",
       "_view_module_version": "1.2.0",
       "_view_name": "StyleView",
       "description_width": ""
      }
     },
     "ff8a18569b694e738338574057893416": {
      "model_module": "@jupyter-widgets/base",
      "model_module_version": "1.2.0",
      "model_name": "LayoutModel",
      "state": {
       "_model_module": "@jupyter-widgets/base",
       "_model_module_version": "1.2.0",
       "_model_name": "LayoutModel",
       "_view_count": null,
       "_view_module": "@jupyter-widgets/base",
       "_view_module_version": "1.2.0",
       "_view_name": "LayoutView",
       "align_content": null,
       "align_items": null,
       "align_self": null,
       "border": null,
       "bottom": null,
       "display": null,
       "flex": null,
       "flex_flow": null,
       "grid_area": null,
       "grid_auto_columns": null,
       "grid_auto_flow": null,
       "grid_auto_rows": null,
       "grid_column": null,
       "grid_gap": null,
       "grid_row": null,
       "grid_template_areas": null,
       "grid_template_columns": null,
       "grid_template_rows": null,
       "height": null,
       "justify_content": null,
       "justify_items": null,
       "left": null,
       "margin": null,
       "max_height": null,
       "max_width": null,
       "min_height": null,
       "min_width": null,
       "object_fit": null,
       "object_position": null,
       "order": null,
       "overflow": null,
       "overflow_x": null,
       "overflow_y": null,
       "padding": null,
       "right": null,
       "top": null,
       "visibility": null,
       "width": null
      }
     }
    },
    "version_major": 2,
    "version_minor": 0
   }
  }
 },
 "nbformat": 4,
 "nbformat_minor": 5
}
